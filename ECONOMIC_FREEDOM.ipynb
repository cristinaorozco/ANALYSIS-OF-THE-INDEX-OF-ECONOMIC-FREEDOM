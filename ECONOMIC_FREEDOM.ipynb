{
  "nbformat": 4,
  "nbformat_minor": 0,
  "metadata": {
    "colab": {
      "name": "ECONOMIC FREEDOM.ipynb",
      "provenance": [],
      "collapsed_sections": []
    },
    "kernelspec": {
      "name": "python3",
      "display_name": "Python 3"
    }
  },
  "cells": [
    {
      "cell_type": "code",
      "metadata": {
        "id": "qtc9SlsC--Pj"
      },
      "source": [
        "#This project intends to verify by means of data extracted from the World Bank and The Heritage Foundation the correlation that exists between GDP Per Capita and the index of economic freedom. \n",
        "#The behavior and trends in economic terms of the countries will also be analyzed.\n",
        "#The data has been taken according to the last report."
      ],
      "execution_count": 60,
      "outputs": []
    },
    {
      "cell_type": "markdown",
      "metadata": {
        "id": "Hjqff3eABx3-"
      },
      "source": [
        "Let's import the libraries that we will use."
      ]
    },
    {
      "cell_type": "code",
      "metadata": {
        "id": "8gHjA8yCB7gI"
      },
      "source": [
        "import pandas as pd\n",
        "import numpy as np"
      ],
      "execution_count": 61,
      "outputs": []
    },
    {
      "cell_type": "markdown",
      "metadata": {
        "id": "tl1nDgzwBTA1"
      },
      "source": [
        "Let's import the dataset taken from the World Bank that contains the GDP Per Capita report for each country."
      ]
    },
    {
      "cell_type": "code",
      "metadata": {
        "id": "AAvIwN73_VkN"
      },
      "source": [
        "datagdp = pd.read_excel('/content/GDP PER CAPITA 2019.xlsx')"
      ],
      "execution_count": 62,
      "outputs": []
    },
    {
      "cell_type": "markdown",
      "metadata": {
        "id": "Ee-NT3chCm7e"
      },
      "source": [
        "Let's look at the dimensions of our dataset"
      ]
    },
    {
      "cell_type": "code",
      "metadata": {
        "colab": {
          "base_uri": "https://localhost:8080/"
        },
        "id": "bpm5YUS1BTLs",
        "outputId": "02fa4055-9f0b-4b26-9c31-a1ecb89e99ea"
      },
      "source": [
        "print(datagdp.shape)"
      ],
      "execution_count": 4,
      "outputs": [
        {
          "output_type": "stream",
          "text": [
            "(264, 2)\n"
          ],
          "name": "stdout"
        }
      ]
    },
    {
      "cell_type": "markdown",
      "metadata": {
        "id": "ZYVRsiS2CpB8"
      },
      "source": [
        "Let's take a look at the first few and last rows."
      ]
    },
    {
      "cell_type": "code",
      "metadata": {
        "colab": {
          "base_uri": "https://localhost:8080/"
        },
        "id": "TFjtw71dBnYS",
        "outputId": "ad35e983-7ac9-4a8f-9543-8e34bd79033e"
      },
      "source": [
        "print(datagdp.head(20))"
      ],
      "execution_count": 5,
      "outputs": [
        {
          "output_type": "stream",
          "text": [
            "            Country Name  GDP PER CAPITA 2019\n",
            "0                  Aruba                  NaN\n",
            "1            Afghanistan           507.103432\n",
            "2                 Angola          2790.726615\n",
            "3                Albania          5353.244856\n",
            "4                Andorra         40886.391165\n",
            "5             Arab World          6584.740241\n",
            "6   United Arab Emirates         43103.323058\n",
            "7              Argentina          9912.281809\n",
            "8                Armenia          4622.733493\n",
            "9         American Samoa                  NaN\n",
            "10   Antigua and Barbuda         17112.821135\n",
            "11             Australia         55060.326101\n",
            "12               Austria         50137.662776\n",
            "13            Azerbaijan          4793.587020\n",
            "14               Burundi           261.247473\n",
            "15               Belgium         46420.663767\n",
            "16                 Benin          1219.432672\n",
            "17          Burkina Faso           786.895631\n",
            "18            Bangladesh          1855.739824\n",
            "19              Bulgaria          9828.148515\n"
          ],
          "name": "stdout"
        }
      ]
    },
    {
      "cell_type": "code",
      "metadata": {
        "colab": {
          "base_uri": "https://localhost:8080/"
        },
        "id": "bTEXxs7TBv5z",
        "outputId": "fd1a989f-10ea-4da8-e0ea-2863be9ed1d2"
      },
      "source": [
        "print(datagdp.tail(20))"
      ],
      "execution_count": 6,
      "outputs": [
        {
          "output_type": "stream",
          "text": [
            "                       Country Name  GDP PER CAPITA 2019\n",
            "244                        Tanzania          1122.121810\n",
            "245                          Uganda           794.341078\n",
            "246                         Ukraine          3659.031312\n",
            "247             Upper middle income          9036.765255\n",
            "248                         Uruguay         16190.126957\n",
            "249                   United States         65297.517508\n",
            "250                      Uzbekistan          1724.841134\n",
            "251  St. Vincent and the Grenadines          7457.509504\n",
            "252                   Venezuela, RB                  NaN\n",
            "253          British Virgin Islands                  NaN\n",
            "254           Virgin Islands (U.S.)                  NaN\n",
            "255                         Vietnam          2715.276036\n",
            "256                         Vanuatu          3115.358620\n",
            "257                           World         11441.732865\n",
            "258                           Samoa          4324.014018\n",
            "259                          Kosovo          4417.524062\n",
            "260                     Yemen, Rep.           774.334490\n",
            "261                    South Africa          6001.400814\n",
            "262                          Zambia          1305.063254\n",
            "263                        Zimbabwe          1463.985910\n"
          ],
          "name": "stdout"
        }
      ]
    },
    {
      "cell_type": "markdown",
      "metadata": {
        "id": "j1nNw0XdC91s"
      },
      "source": [
        "\n",
        "Let's look at which row the country with the highest GDP Per Capita is located."
      ]
    },
    {
      "cell_type": "code",
      "metadata": {
        "colab": {
          "base_uri": "https://localhost:8080/"
        },
        "id": "WsoicNi6UeVA",
        "outputId": "d2016fe8-ec4f-4820-f29c-9f267661b362"
      },
      "source": [
        "country_max_gdp = datagdp['GDP PER CAPITA 2019'].idxmax()\n",
        "country_max_gdp"
      ],
      "execution_count": 7,
      "outputs": [
        {
          "output_type": "execute_result",
          "data": {
            "text/plain": [
              "25"
            ]
          },
          "metadata": {
            "tags": []
          },
          "execution_count": 7
        }
      ]
    },
    {
      "cell_type": "markdown",
      "metadata": {
        "id": "_97uNUb2DHW9"
      },
      "source": [
        "\n",
        "Let's find out in more detail."
      ]
    },
    {
      "cell_type": "code",
      "metadata": {
        "colab": {
          "base_uri": "https://localhost:8080/"
        },
        "id": "DeNyCAjmU9Ic",
        "outputId": "2f7fce95-b98a-4a11-ce47-50a6af13e726"
      },
      "source": [
        "datagdp.loc[datagdp['GDP PER CAPITA 2019'].idxmax()]"
      ],
      "execution_count": 8,
      "outputs": [
        {
          "output_type": "execute_result",
          "data": {
            "text/plain": [
              "Country Name           Bermuda\n",
              "GDP PER CAPITA 2019     117089\n",
              "Name: 25, dtype: object"
            ]
          },
          "metadata": {
            "tags": []
          },
          "execution_count": 8
        }
      ]
    },
    {
      "cell_type": "markdown",
      "metadata": {
        "id": "b_KZSxU0EsQX"
      },
      "source": [
        "\n",
        "Let's observe which is the country with the lowest GDP Per Capita"
      ]
    },
    {
      "cell_type": "code",
      "metadata": {
        "colab": {
          "base_uri": "https://localhost:8080/"
        },
        "id": "16_yzL4kv7B2",
        "outputId": "f5ef1738-e770-4b06-fe6c-1dda48d5895b"
      },
      "source": [
        "datagdp.loc[datagdp['GDP PER CAPITA 2019'].idxmin()]"
      ],
      "execution_count": 9,
      "outputs": [
        {
          "output_type": "execute_result",
          "data": {
            "text/plain": [
              "Country Name           Burundi\n",
              "GDP PER CAPITA 2019    261.247\n",
              "Name: 14, dtype: object"
            ]
          },
          "metadata": {
            "tags": []
          },
          "execution_count": 9
        }
      ]
    },
    {
      "cell_type": "markdown",
      "metadata": {
        "id": "LR49eTDkEvbk"
      },
      "source": [
        "We check the number of null values."
      ]
    },
    {
      "cell_type": "code",
      "metadata": {
        "colab": {
          "base_uri": "https://localhost:8080/"
        },
        "id": "VUp07uprB91r",
        "outputId": "3b8c5951-970f-4637-ea76-57f93b508156"
      },
      "source": [
        "datagdp.info()"
      ],
      "execution_count": 10,
      "outputs": [
        {
          "output_type": "stream",
          "text": [
            "<class 'pandas.core.frame.DataFrame'>\n",
            "RangeIndex: 264 entries, 0 to 263\n",
            "Data columns (total 2 columns):\n",
            " #   Column               Non-Null Count  Dtype  \n",
            "---  ------               --------------  -----  \n",
            " 0   Country Name         264 non-null    object \n",
            " 1   GDP PER CAPITA 2019  230 non-null    float64\n",
            "dtypes: float64(1), object(1)\n",
            "memory usage: 4.2+ KB\n"
          ],
          "name": "stdout"
        }
      ]
    },
    {
      "cell_type": "markdown",
      "metadata": {
        "id": "BJYcbD1iE7Zb"
      },
      "source": [
        "\n",
        "We see there are 264 null values ​​in one column and 230 null values ​​in another, it means that we must do a data cleaning."
      ]
    },
    {
      "cell_type": "code",
      "metadata": {
        "id": "XSZ_dLTRCH8N"
      },
      "source": [
        "datagdp = datagdp.dropna(subset=['Country Name', 'GDP PER CAPITA 2019'])"
      ],
      "execution_count": 11,
      "outputs": []
    },
    {
      "cell_type": "code",
      "metadata": {
        "colab": {
          "base_uri": "https://localhost:8080/"
        },
        "id": "YeqqAfiQCvQl",
        "outputId": "63b8755b-e7db-4f59-c1b7-84a135ad6adb"
      },
      "source": [
        "datagdp.info()"
      ],
      "execution_count": 13,
      "outputs": [
        {
          "output_type": "stream",
          "text": [
            "<class 'pandas.core.frame.DataFrame'>\n",
            "Int64Index: 230 entries, 1 to 263\n",
            "Data columns (total 2 columns):\n",
            " #   Column               Non-Null Count  Dtype  \n",
            "---  ------               --------------  -----  \n",
            " 0   Country Name         230 non-null    object \n",
            " 1   GDP PER CAPITA 2019  230 non-null    float64\n",
            "dtypes: float64(1), object(1)\n",
            "memory usage: 5.4+ KB\n"
          ],
          "name": "stdout"
        }
      ]
    },
    {
      "cell_type": "markdown",
      "metadata": {
        "id": "_TEXWrj2FQ9p"
      },
      "source": [
        "\n",
        "Now that we have the same amount of data in both columns of the GDP Per Capita dataset, we proceed to analyze the Index of Economic Freedom dataset."
      ]
    },
    {
      "cell_type": "markdown",
      "metadata": {
        "id": "-9R6op6KFzS2"
      },
      "source": [
        "Let's import our dataset."
      ]
    },
    {
      "cell_type": "code",
      "metadata": {
        "id": "s2kl9lxUC6KY"
      },
      "source": [
        "dataef = pd.read_excel('/content/INDEX OF ECONOMIC FREEDOM 2020.xlsx')"
      ],
      "execution_count": 14,
      "outputs": []
    },
    {
      "cell_type": "markdown",
      "metadata": {
        "id": "X6Y-joTDF68b"
      },
      "source": [
        "Let's check its size"
      ]
    },
    {
      "cell_type": "code",
      "metadata": {
        "colab": {
          "base_uri": "https://localhost:8080/"
        },
        "id": "KxnITLg-Gi4O",
        "outputId": "46382316-f1c5-4e87-ac50-1b28d1dbb719"
      },
      "source": [
        "print(dataef.shape)"
      ],
      "execution_count": 15,
      "outputs": [
        {
          "output_type": "stream",
          "text": [
            "(185, 2)\n"
          ],
          "name": "stdout"
        }
      ]
    },
    {
      "cell_type": "markdown",
      "metadata": {
        "id": "oCYK1w-C8bDN"
      },
      "source": [
        "Let's take a look at its first columns"
      ]
    },
    {
      "cell_type": "code",
      "metadata": {
        "colab": {
          "base_uri": "https://localhost:8080/"
        },
        "id": "iiZi29FvGoYJ",
        "outputId": "559ec2e8-c5c4-4926-f790-0d4a21733976"
      },
      "source": [
        "print(dataef.head(20))"
      ],
      "execution_count": 16,
      "outputs": [
        {
          "output_type": "stream",
          "text": [
            "              Country Name  INDEX OF ECONOMIC FREEDOM (SCORE 2020)\n",
            "0              Afghanistan                                    54.7\n",
            "1                  Albania                                    66.9\n",
            "2                  Algeria                                    46.9\n",
            "3                   Angola                                    52.2\n",
            "4                Argentina                                    53.1\n",
            "5                  Armenia                                    70.6\n",
            "6                Australia                                    82.6\n",
            "7                  Austria                                    73.3\n",
            "8               Azerbaijan                                    69.3\n",
            "9                  Bahamas                                    64.5\n",
            "10                 Bahrain                                    66.3\n",
            "11              Bangladesh                                    56.4\n",
            "12                Barbados                                    61.4\n",
            "13                 Belarus                                    61.7\n",
            "14                 Belgium                                    68.9\n",
            "15                  Belize                                    57.4\n",
            "16                   Benin                                    55.2\n",
            "17                  Bhutan                                    62.1\n",
            "18                  Boliia                                    42.8\n",
            "19  Bosnia and Herzegovina                                    62.6\n"
          ],
          "name": "stdout"
        }
      ]
    },
    {
      "cell_type": "markdown",
      "metadata": {
        "id": "o3IL3eHbGRsR"
      },
      "source": [
        "Let's see what is the country with the highest Index of Economic Freedom."
      ]
    },
    {
      "cell_type": "code",
      "metadata": {
        "colab": {
          "base_uri": "https://localhost:8080/"
        },
        "id": "CXyisqHnV5Y9",
        "outputId": "e7f7afb8-e59a-4a4f-cfd4-3f54ee2755be"
      },
      "source": [
        "dataef.loc[dataef['INDEX OF ECONOMIC FREEDOM (SCORE 2020)'].idxmax()]"
      ],
      "execution_count": 17,
      "outputs": [
        {
          "output_type": "execute_result",
          "data": {
            "text/plain": [
              "Country Name                              Singapore\n",
              "INDEX OF ECONOMIC FREEDOM (SCORE 2020)         89.4\n",
              "Name: 147, dtype: object"
            ]
          },
          "metadata": {
            "tags": []
          },
          "execution_count": 17
        }
      ]
    },
    {
      "cell_type": "markdown",
      "metadata": {
        "id": "d6bPvu9F8yju"
      },
      "source": [
        "Singapore is the country with the highest index."
      ]
    },
    {
      "cell_type": "markdown",
      "metadata": {
        "id": "wAvg13eHGchy"
      },
      "source": [
        "\n",
        "Let's analyze the amount of null data."
      ]
    },
    {
      "cell_type": "code",
      "metadata": {
        "colab": {
          "base_uri": "https://localhost:8080/"
        },
        "id": "rD3HdJVVLja_",
        "outputId": "cf44a07d-4d3b-4f72-9849-1faf8bdb222a"
      },
      "source": [
        "dataef.info()"
      ],
      "execution_count": 18,
      "outputs": [
        {
          "output_type": "stream",
          "text": [
            "<class 'pandas.core.frame.DataFrame'>\n",
            "RangeIndex: 185 entries, 0 to 184\n",
            "Data columns (total 2 columns):\n",
            " #   Column                                  Non-Null Count  Dtype  \n",
            "---  ------                                  --------------  -----  \n",
            " 0   Country Name                            185 non-null    object \n",
            " 1   INDEX OF ECONOMIC FREEDOM (SCORE 2020)  179 non-null    float64\n",
            "dtypes: float64(1), object(1)\n",
            "memory usage: 3.0+ KB\n"
          ],
          "name": "stdout"
        }
      ]
    },
    {
      "cell_type": "markdown",
      "metadata": {
        "id": "N1kfX-2CGiA0"
      },
      "source": [
        "We have to proceed to clean the dataset in order to delete null columns."
      ]
    },
    {
      "cell_type": "code",
      "metadata": {
        "id": "LuPz2uvAMOsW"
      },
      "source": [
        "dataef = dataef.dropna(subset=['Country Name', 'INDEX OF ECONOMIC FREEDOM (SCORE 2020)'])"
      ],
      "execution_count": 19,
      "outputs": []
    },
    {
      "cell_type": "code",
      "metadata": {
        "colab": {
          "base_uri": "https://localhost:8080/"
        },
        "id": "J0CUgKk-NWGW",
        "outputId": "c017ecbc-941d-4bb4-db82-b02f57961098"
      },
      "source": [
        "dataef.info()"
      ],
      "execution_count": 22,
      "outputs": [
        {
          "output_type": "stream",
          "text": [
            "<class 'pandas.core.frame.DataFrame'>\n",
            "Int64Index: 179 entries, 0 to 184\n",
            "Data columns (total 2 columns):\n",
            " #   Column                                  Non-Null Count  Dtype  \n",
            "---  ------                                  --------------  -----  \n",
            " 0   Country Name                            179 non-null    object \n",
            " 1   INDEX OF ECONOMIC FREEDOM (SCORE 2020)  179 non-null    float64\n",
            "dtypes: float64(1), object(1)\n",
            "memory usage: 4.2+ KB\n"
          ],
          "name": "stdout"
        }
      ]
    },
    {
      "cell_type": "code",
      "metadata": {
        "colab": {
          "base_uri": "https://localhost:8080/"
        },
        "id": "7cRngZ-INyDs",
        "outputId": "752d1847-e327-44e8-f434-d84ba04ddeaf"
      },
      "source": [
        "datagdp['Country Name']"
      ],
      "execution_count": 23,
      "outputs": [
        {
          "output_type": "execute_result",
          "data": {
            "text/plain": [
              "1       Afghanistan\n",
              "2            Angola\n",
              "3           Albania\n",
              "4           Andorra\n",
              "5        Arab World\n",
              "           ...     \n",
              "259          Kosovo\n",
              "260     Yemen, Rep.\n",
              "261    South Africa\n",
              "262          Zambia\n",
              "263        Zimbabwe\n",
              "Name: Country Name, Length: 230, dtype: object"
            ]
          },
          "metadata": {
            "tags": []
          },
          "execution_count": 23
        }
      ]
    },
    {
      "cell_type": "code",
      "metadata": {
        "colab": {
          "base_uri": "https://localhost:8080/"
        },
        "id": "Rxy-gmTzO6Jy",
        "outputId": "5fc1c08c-2ba0-418a-9b81-e9634bcb75bd"
      },
      "source": [
        "dfgdp = pd.DataFrame(datagdp, columns = ['Country Name', 'GDP PER CAPITA 2019'])\n",
        "\n",
        "print (dfgdp)"
      ],
      "execution_count": 24,
      "outputs": [
        {
          "output_type": "stream",
          "text": [
            "     Country Name  GDP PER CAPITA 2019\n",
            "1     Afghanistan           507.103432\n",
            "2          Angola          2790.726615\n",
            "3         Albania          5353.244856\n",
            "4         Andorra         40886.391165\n",
            "5      Arab World          6584.740241\n",
            "..            ...                  ...\n",
            "259        Kosovo          4417.524062\n",
            "260   Yemen, Rep.           774.334490\n",
            "261  South Africa          6001.400814\n",
            "262        Zambia          1305.063254\n",
            "263      Zimbabwe          1463.985910\n",
            "\n",
            "[230 rows x 2 columns]\n"
          ],
          "name": "stdout"
        }
      ]
    },
    {
      "cell_type": "code",
      "metadata": {
        "colab": {
          "base_uri": "https://localhost:8080/"
        },
        "id": "mfRI90lIPN46",
        "outputId": "69727d77-b96a-417f-dcdd-b76272c17e15"
      },
      "source": [
        "dfef = pd.DataFrame(dataef, columns = ['Country Name', 'INDEX OF ECONOMIC FREEDOM (SCORE 2020)'])\n",
        "\n",
        "print (dfef)"
      ],
      "execution_count": 25,
      "outputs": [
        {
          "output_type": "stream",
          "text": [
            "    Country Name  INDEX OF ECONOMIC FREEDOM (SCORE 2020)\n",
            "0    Afghanistan                                    54.7\n",
            "1        Albania                                    66.9\n",
            "2        Algeria                                    46.9\n",
            "3         Angola                                    52.2\n",
            "4      Argentina                                    53.1\n",
            "..           ...                                     ...\n",
            "179      Vanuata                                    60.7\n",
            "180    Venezuela                                    25.2\n",
            "181      Vietnam                                    58.8\n",
            "183       Zambia                                    53.5\n",
            "184     Zimbabwe                                    43.1\n",
            "\n",
            "[179 rows x 2 columns]\n"
          ],
          "name": "stdout"
        }
      ]
    },
    {
      "cell_type": "markdown",
      "metadata": {
        "id": "bOT_6297HLAy"
      },
      "source": [
        "Let's create a new dataframe with the information about GDP Per Capita and Index of Economic Freedom, and let's use the 'merge' function so that it only includes the countries that contain both data."
      ]
    },
    {
      "cell_type": "code",
      "metadata": {
        "colab": {
          "base_uri": "https://localhost:8080/",
          "height": 406
        },
        "id": "t8O_-P8ZPi7u",
        "outputId": "75dd1d3c-49cf-434c-985e-b228972a0437"
      },
      "source": [
        "df = pd.merge(dfgdp, dfef)\n",
        "df"
      ],
      "execution_count": 26,
      "outputs": [
        {
          "output_type": "execute_result",
          "data": {
            "text/html": [
              "<div>\n",
              "<style scoped>\n",
              "    .dataframe tbody tr th:only-of-type {\n",
              "        vertical-align: middle;\n",
              "    }\n",
              "\n",
              "    .dataframe tbody tr th {\n",
              "        vertical-align: top;\n",
              "    }\n",
              "\n",
              "    .dataframe thead th {\n",
              "        text-align: right;\n",
              "    }\n",
              "</style>\n",
              "<table border=\"1\" class=\"dataframe\">\n",
              "  <thead>\n",
              "    <tr style=\"text-align: right;\">\n",
              "      <th></th>\n",
              "      <th>Country Name</th>\n",
              "      <th>GDP PER CAPITA 2019</th>\n",
              "      <th>INDEX OF ECONOMIC FREEDOM (SCORE 2020)</th>\n",
              "    </tr>\n",
              "  </thead>\n",
              "  <tbody>\n",
              "    <tr>\n",
              "      <th>0</th>\n",
              "      <td>Afghanistan</td>\n",
              "      <td>507.103432</td>\n",
              "      <td>54.7</td>\n",
              "    </tr>\n",
              "    <tr>\n",
              "      <th>1</th>\n",
              "      <td>Angola</td>\n",
              "      <td>2790.726615</td>\n",
              "      <td>52.2</td>\n",
              "    </tr>\n",
              "    <tr>\n",
              "      <th>2</th>\n",
              "      <td>Albania</td>\n",
              "      <td>5353.244856</td>\n",
              "      <td>66.9</td>\n",
              "    </tr>\n",
              "    <tr>\n",
              "      <th>3</th>\n",
              "      <td>United Arab Emirates</td>\n",
              "      <td>43103.323058</td>\n",
              "      <td>76.2</td>\n",
              "    </tr>\n",
              "    <tr>\n",
              "      <th>4</th>\n",
              "      <td>Argentina</td>\n",
              "      <td>9912.281809</td>\n",
              "      <td>53.1</td>\n",
              "    </tr>\n",
              "    <tr>\n",
              "      <th>...</th>\n",
              "      <td>...</td>\n",
              "      <td>...</td>\n",
              "      <td>...</td>\n",
              "    </tr>\n",
              "    <tr>\n",
              "      <th>146</th>\n",
              "      <td>Samoa</td>\n",
              "      <td>4324.014018</td>\n",
              "      <td>62.1</td>\n",
              "    </tr>\n",
              "    <tr>\n",
              "      <th>147</th>\n",
              "      <td>Kosovo</td>\n",
              "      <td>4417.524062</td>\n",
              "      <td>67.4</td>\n",
              "    </tr>\n",
              "    <tr>\n",
              "      <th>148</th>\n",
              "      <td>South Africa</td>\n",
              "      <td>6001.400814</td>\n",
              "      <td>58.8</td>\n",
              "    </tr>\n",
              "    <tr>\n",
              "      <th>149</th>\n",
              "      <td>Zambia</td>\n",
              "      <td>1305.063254</td>\n",
              "      <td>53.5</td>\n",
              "    </tr>\n",
              "    <tr>\n",
              "      <th>150</th>\n",
              "      <td>Zimbabwe</td>\n",
              "      <td>1463.985910</td>\n",
              "      <td>43.1</td>\n",
              "    </tr>\n",
              "  </tbody>\n",
              "</table>\n",
              "<p>151 rows × 3 columns</p>\n",
              "</div>"
            ],
            "text/plain": [
              "             Country Name  ...  INDEX OF ECONOMIC FREEDOM (SCORE 2020)\n",
              "0             Afghanistan  ...                                    54.7\n",
              "1                  Angola  ...                                    52.2\n",
              "2                 Albania  ...                                    66.9\n",
              "3    United Arab Emirates  ...                                    76.2\n",
              "4               Argentina  ...                                    53.1\n",
              "..                    ...  ...                                     ...\n",
              "146                 Samoa  ...                                    62.1\n",
              "147                Kosovo  ...                                    67.4\n",
              "148          South Africa  ...                                    58.8\n",
              "149                Zambia  ...                                    53.5\n",
              "150              Zimbabwe  ...                                    43.1\n",
              "\n",
              "[151 rows x 3 columns]"
            ]
          },
          "metadata": {
            "tags": []
          },
          "execution_count": 26
        }
      ]
    },
    {
      "cell_type": "code",
      "metadata": {
        "colab": {
          "base_uri": "https://localhost:8080/"
        },
        "id": "XQRCmDnNRe2f",
        "outputId": "a6793716-a63a-45ce-c311-b44df37ebb3b"
      },
      "source": [
        "print(df.shape)"
      ],
      "execution_count": 27,
      "outputs": [
        {
          "output_type": "stream",
          "text": [
            "(151, 3)\n"
          ],
          "name": "stdout"
        }
      ]
    },
    {
      "cell_type": "markdown",
      "metadata": {
        "id": "BSVFGgxKH5Sw"
      },
      "source": [
        "We have checked its size and note that 151 countries have remained for our analysis."
      ]
    },
    {
      "cell_type": "markdown",
      "metadata": {
        "id": "8B7wHCqYITLV"
      },
      "source": [
        "Now, let's check that there is the same number of data for both variables."
      ]
    },
    {
      "cell_type": "code",
      "metadata": {
        "colab": {
          "base_uri": "https://localhost:8080/"
        },
        "id": "lvpW1hOCRoMU",
        "outputId": "b51c9c04-1aee-4639-f734-2a8fb53ef0d6"
      },
      "source": [
        "df.info()"
      ],
      "execution_count": 28,
      "outputs": [
        {
          "output_type": "stream",
          "text": [
            "<class 'pandas.core.frame.DataFrame'>\n",
            "Int64Index: 151 entries, 0 to 150\n",
            "Data columns (total 3 columns):\n",
            " #   Column                                  Non-Null Count  Dtype  \n",
            "---  ------                                  --------------  -----  \n",
            " 0   Country Name                            151 non-null    object \n",
            " 1   GDP PER CAPITA 2019                     151 non-null    float64\n",
            " 2   INDEX OF ECONOMIC FREEDOM (SCORE 2020)  151 non-null    float64\n",
            "dtypes: float64(2), object(1)\n",
            "memory usage: 4.7+ KB\n"
          ],
          "name": "stdout"
        }
      ]
    },
    {
      "cell_type": "code",
      "metadata": {
        "colab": {
          "base_uri": "https://localhost:8080/",
          "height": 287
        },
        "id": "ro-_rFjowepS",
        "outputId": "88bc27d1-58d3-4e85-c00b-6a15e45d2be4"
      },
      "source": [
        "df.describe()"
      ],
      "execution_count": 29,
      "outputs": [
        {
          "output_type": "execute_result",
          "data": {
            "text/html": [
              "<div>\n",
              "<style scoped>\n",
              "    .dataframe tbody tr th:only-of-type {\n",
              "        vertical-align: middle;\n",
              "    }\n",
              "\n",
              "    .dataframe tbody tr th {\n",
              "        vertical-align: top;\n",
              "    }\n",
              "\n",
              "    .dataframe thead th {\n",
              "        text-align: right;\n",
              "    }\n",
              "</style>\n",
              "<table border=\"1\" class=\"dataframe\">\n",
              "  <thead>\n",
              "    <tr style=\"text-align: right;\">\n",
              "      <th></th>\n",
              "      <th>GDP PER CAPITA 2019</th>\n",
              "      <th>INDEX OF ECONOMIC FREEDOM (SCORE 2020)</th>\n",
              "    </tr>\n",
              "  </thead>\n",
              "  <tbody>\n",
              "    <tr>\n",
              "      <th>count</th>\n",
              "      <td>151.000000</td>\n",
              "      <td>151.000000</td>\n",
              "    </tr>\n",
              "    <tr>\n",
              "      <th>mean</th>\n",
              "      <td>15193.751039</td>\n",
              "      <td>62.928477</td>\n",
              "    </tr>\n",
              "    <tr>\n",
              "      <th>std</th>\n",
              "      <td>20559.277783</td>\n",
              "      <td>9.261586</td>\n",
              "    </tr>\n",
              "    <tr>\n",
              "      <th>min</th>\n",
              "      <td>261.247473</td>\n",
              "      <td>43.100000</td>\n",
              "    </tr>\n",
              "    <tr>\n",
              "      <th>25%</th>\n",
              "      <td>1884.321785</td>\n",
              "      <td>55.550000</td>\n",
              "    </tr>\n",
              "    <tr>\n",
              "      <th>50%</th>\n",
              "      <td>6175.888720</td>\n",
              "      <td>62.100000</td>\n",
              "    </tr>\n",
              "    <tr>\n",
              "      <th>75%</th>\n",
              "      <td>17988.569792</td>\n",
              "      <td>69.350000</td>\n",
              "    </tr>\n",
              "    <tr>\n",
              "      <th>max</th>\n",
              "      <td>114704.594171</td>\n",
              "      <td>89.400000</td>\n",
              "    </tr>\n",
              "  </tbody>\n",
              "</table>\n",
              "</div>"
            ],
            "text/plain": [
              "       GDP PER CAPITA 2019  INDEX OF ECONOMIC FREEDOM (SCORE 2020)\n",
              "count           151.000000                              151.000000\n",
              "mean          15193.751039                               62.928477\n",
              "std           20559.277783                                9.261586\n",
              "min             261.247473                               43.100000\n",
              "25%            1884.321785                               55.550000\n",
              "50%            6175.888720                               62.100000\n",
              "75%           17988.569792                               69.350000\n",
              "max          114704.594171                               89.400000"
            ]
          },
          "metadata": {
            "tags": []
          },
          "execution_count": 29
        }
      ]
    },
    {
      "cell_type": "markdown",
      "metadata": {
        "id": "pvg5NQbNIola"
      },
      "source": [
        "Let's import a new library to analyze the data through visualization."
      ]
    },
    {
      "cell_type": "code",
      "metadata": {
        "id": "vCothzmYRwIA"
      },
      "source": [
        "import matplotlib.pyplot as plt"
      ],
      "execution_count": 30,
      "outputs": []
    },
    {
      "cell_type": "code",
      "metadata": {
        "colab": {
          "base_uri": "https://localhost:8080/",
          "height": 312
        },
        "id": "qY7cl5_Z7hxI",
        "outputId": "ac367e8f-73b9-4557-92e3-7e346567180b"
      },
      "source": [
        "plt.hist(df['GDP PER CAPITA 2019'])\n",
        "plt.xlabel('GDP PER CAPITA')\n",
        "plt.title('HISTOGRAM GDP PER CAPITA')"
      ],
      "execution_count": 33,
      "outputs": [
        {
          "output_type": "execute_result",
          "data": {
            "text/plain": [
              "Text(0.5, 1.0, 'HISTOGRAM GDP PER CAPITA')"
            ]
          },
          "metadata": {
            "tags": []
          },
          "execution_count": 33
        },
        {
          "output_type": "display_data",
          "data": {
            "image/png": "[encoded data removed]",
            "text/plain": [
              "<Figure size 432x288 with 1 Axes>"
            ]
          },
          "metadata": {
            "tags": [],
            "needs_background": "light"
          }
        }
      ]
    },
    {
      "cell_type": "markdown",
      "metadata": {
        "id": "TdcDC1trKHRV"
      },
      "source": [
        "Observing the histogram we see that the data have a positive skewed distribution, since the tail is on the right side. Which means that most countries have low incomes in per capita terms."
      ]
    },
    {
      "cell_type": "code",
      "metadata": {
        "colab": {
          "base_uri": "https://localhost:8080/",
          "height": 411
        },
        "id": "zuTCdTiZ_pgY",
        "outputId": "baf108fc-262c-465f-9a12-caa7b8b501bc"
      },
      "source": [
        "plt.boxplot(df['GDP PER CAPITA 2019'])"
      ],
      "execution_count": 34,
      "outputs": [
        {
          "output_type": "execute_result",
          "data": {
            "text/plain": [
              "{'boxes': [<matplotlib.lines.Line2D at 0x7f8faf85b7d0>],\n",
              " 'caps': [<matplotlib.lines.Line2D at 0x7f8faf860850>,\n",
              "  <matplotlib.lines.Line2D at 0x7f8faf860d90>],\n",
              " 'fliers': [<matplotlib.lines.Line2D at 0x7f8faf869890>],\n",
              " 'means': [],\n",
              " 'medians': [<matplotlib.lines.Line2D at 0x7f8faf869350>],\n",
              " 'whiskers': [<matplotlib.lines.Line2D at 0x7f8faf85bd90>,\n",
              "  <matplotlib.lines.Line2D at 0x7f8faf860310>]}"
            ]
          },
          "metadata": {
            "tags": []
          },
          "execution_count": 34
        },
        {
          "output_type": "display_data",
          "data": {
            "image/png": "[encoded data removed]",
            "text/plain": [
              "<Figure size 432x288 with 1 Axes>"
            ]
          },
          "metadata": {
            "tags": [],
            "needs_background": "light"
          }
        }
      ]
    },
    {
      "cell_type": "markdown",
      "metadata": {
        "id": "b4p7mVJA67NH"
      },
      "source": [
        "Observing the bloxplot, we see that in 75% of the countries analyzed the GDP Per Capita is less than US  20.000 peryear, and in 50% of the countries the GDP Per Capita is less than US $5,000 per year."
      ]
    },
    {
      "cell_type": "code",
      "metadata": {
        "colab": {
          "base_uri": "https://localhost:8080/",
          "height": 406
        },
        "id": "yBLf7vXcDAmj",
        "outputId": "af023745-f424-4fe0-e31c-75bb44385a79"
      },
      "source": [
        "plt.boxplot(df['INDEX OF ECONOMIC FREEDOM (SCORE 2020)'])"
      ],
      "execution_count": 35,
      "outputs": [
        {
          "output_type": "execute_result",
          "data": {
            "text/plain": [
              "{'boxes': [<matplotlib.lines.Line2D at 0x7f8faf84a810>],\n",
              " 'caps': [<matplotlib.lines.Line2D at 0x7f8faf84d890>,\n",
              "  <matplotlib.lines.Line2D at 0x7f8faf84ddd0>],\n",
              " 'fliers': [<matplotlib.lines.Line2D at 0x7f8faf8568d0>],\n",
              " 'means': [],\n",
              " 'medians': [<matplotlib.lines.Line2D at 0x7f8faf856390>],\n",
              " 'whiskers': [<matplotlib.lines.Line2D at 0x7f8faf84add0>,\n",
              "  <matplotlib.lines.Line2D at 0x7f8faf84d350>]}"
            ]
          },
          "metadata": {
            "tags": []
          },
          "execution_count": 35
        },
        {
          "output_type": "display_data",
          "data": {
            "image/png": "[encoded data removed]",
            "text/plain": [
              "<Figure size 432x288 with 1 Axes>"
            ]
          },
          "metadata": {
            "tags": [],
            "needs_background": "light"
          }
        }
      ]
    },
    {
      "cell_type": "markdown",
      "metadata": {
        "id": "6PJ-W0_vK-tm"
      },
      "source": [
        "\n",
        "Analyzing the Index of Economic Freedom in a bloxplot, we note that 75% of the countries have a score lower than 70. "
      ]
    },
    {
      "cell_type": "markdown",
      "metadata": {
        "id": "_C2o1frVFrRL"
      },
      "source": [
        "Let's observe which countries have an index greater than 70. It has been taken to observe the countries with an index greater than 70 because according to the methodology by which the score is calculated, a country is \n",
        "considered 'Mostly Free' if its Index of Economic Freedom is between 70-79.9, it is also considered ' Free' if its score is between 80–100."
      ]
    },
    {
      "cell_type": "code",
      "metadata": {
        "colab": {
          "base_uri": "https://localhost:8080/",
          "height": 1000
        },
        "id": "y_Yc9rMwEZrM",
        "outputId": "3c2c4c2b-60ae-4a1b-e3b5-516c023f3b1d"
      },
      "source": [
        "bestcountriesEF = df[df['INDEX OF ECONOMIC FREEDOM (SCORE 2020)']>70]\n",
        "bestcountriesEF"
      ],
      "execution_count": 54,
      "outputs": [
        {
          "output_type": "execute_result",
          "data": {
            "text/html": [
              "<div>\n",
              "<style scoped>\n",
              "    .dataframe tbody tr th:only-of-type {\n",
              "        vertical-align: middle;\n",
              "    }\n",
              "\n",
              "    .dataframe tbody tr th {\n",
              "        vertical-align: top;\n",
              "    }\n",
              "\n",
              "    .dataframe thead th {\n",
              "        text-align: right;\n",
              "    }\n",
              "</style>\n",
              "<table border=\"1\" class=\"dataframe\">\n",
              "  <thead>\n",
              "    <tr style=\"text-align: right;\">\n",
              "      <th></th>\n",
              "      <th>Country Name</th>\n",
              "      <th>GDP PER CAPITA 2019</th>\n",
              "      <th>INDEX OF ECONOMIC FREEDOM (SCORE 2020)</th>\n",
              "    </tr>\n",
              "  </thead>\n",
              "  <tbody>\n",
              "    <tr>\n",
              "      <th>3</th>\n",
              "      <td>United Arab Emirates</td>\n",
              "      <td>43103.323058</td>\n",
              "      <td>76.2</td>\n",
              "    </tr>\n",
              "    <tr>\n",
              "      <th>5</th>\n",
              "      <td>Armenia</td>\n",
              "      <td>4622.733493</td>\n",
              "      <td>70.6</td>\n",
              "    </tr>\n",
              "    <tr>\n",
              "      <th>6</th>\n",
              "      <td>Australia</td>\n",
              "      <td>55060.326101</td>\n",
              "      <td>82.6</td>\n",
              "    </tr>\n",
              "    <tr>\n",
              "      <th>7</th>\n",
              "      <td>Austria</td>\n",
              "      <td>50137.662776</td>\n",
              "      <td>73.3</td>\n",
              "    </tr>\n",
              "    <tr>\n",
              "      <th>14</th>\n",
              "      <td>Bulgaria</td>\n",
              "      <td>9828.148515</td>\n",
              "      <td>70.2</td>\n",
              "    </tr>\n",
              "    <tr>\n",
              "      <th>25</th>\n",
              "      <td>Canada</td>\n",
              "      <td>46194.725226</td>\n",
              "      <td>78.2</td>\n",
              "    </tr>\n",
              "    <tr>\n",
              "      <th>26</th>\n",
              "      <td>Switzerland</td>\n",
              "      <td>81993.727126</td>\n",
              "      <td>82.0</td>\n",
              "    </tr>\n",
              "    <tr>\n",
              "      <th>27</th>\n",
              "      <td>Chile</td>\n",
              "      <td>14896.453867</td>\n",
              "      <td>76.8</td>\n",
              "    </tr>\n",
              "    <tr>\n",
              "      <th>34</th>\n",
              "      <td>Cyprus</td>\n",
              "      <td>27858.370996</td>\n",
              "      <td>70.1</td>\n",
              "    </tr>\n",
              "    <tr>\n",
              "      <th>35</th>\n",
              "      <td>Czech Republic</td>\n",
              "      <td>23494.596200</td>\n",
              "      <td>74.8</td>\n",
              "    </tr>\n",
              "    <tr>\n",
              "      <th>36</th>\n",
              "      <td>Germany</td>\n",
              "      <td>46445.249101</td>\n",
              "      <td>73.5</td>\n",
              "    </tr>\n",
              "    <tr>\n",
              "      <th>39</th>\n",
              "      <td>Denmark</td>\n",
              "      <td>60170.342637</td>\n",
              "      <td>78.3</td>\n",
              "    </tr>\n",
              "    <tr>\n",
              "      <th>44</th>\n",
              "      <td>Estonia</td>\n",
              "      <td>23723.306113</td>\n",
              "      <td>77.7</td>\n",
              "    </tr>\n",
              "    <tr>\n",
              "      <th>46</th>\n",
              "      <td>Finland</td>\n",
              "      <td>48782.788476</td>\n",
              "      <td>75.7</td>\n",
              "    </tr>\n",
              "    <tr>\n",
              "      <th>50</th>\n",
              "      <td>United Kingdom</td>\n",
              "      <td>42330.117537</td>\n",
              "      <td>79.3</td>\n",
              "    </tr>\n",
              "    <tr>\n",
              "      <th>51</th>\n",
              "      <td>Georgia</td>\n",
              "      <td>4697.704576</td>\n",
              "      <td>77.1</td>\n",
              "    </tr>\n",
              "    <tr>\n",
              "      <th>65</th>\n",
              "      <td>Ireland</td>\n",
              "      <td>78660.956463</td>\n",
              "      <td>80.9</td>\n",
              "    </tr>\n",
              "    <tr>\n",
              "      <th>66</th>\n",
              "      <td>Iceland</td>\n",
              "      <td>66944.833077</td>\n",
              "      <td>77.1</td>\n",
              "    </tr>\n",
              "    <tr>\n",
              "      <th>67</th>\n",
              "      <td>Israel</td>\n",
              "      <td>43592.083582</td>\n",
              "      <td>74.0</td>\n",
              "    </tr>\n",
              "    <tr>\n",
              "      <th>71</th>\n",
              "      <td>Japan</td>\n",
              "      <td>40246.880128</td>\n",
              "      <td>73.3</td>\n",
              "    </tr>\n",
              "    <tr>\n",
              "      <th>81</th>\n",
              "      <td>Lithuania</td>\n",
              "      <td>19601.890834</td>\n",
              "      <td>76.7</td>\n",
              "    </tr>\n",
              "    <tr>\n",
              "      <th>82</th>\n",
              "      <td>Luxembourg</td>\n",
              "      <td>114704.594171</td>\n",
              "      <td>75.8</td>\n",
              "    </tr>\n",
              "    <tr>\n",
              "      <th>83</th>\n",
              "      <td>Latvia</td>\n",
              "      <td>17828.894657</td>\n",
              "      <td>71.9</td>\n",
              "    </tr>\n",
              "    <tr>\n",
              "      <th>95</th>\n",
              "      <td>Mauritius</td>\n",
              "      <td>11099.240284</td>\n",
              "      <td>74.9</td>\n",
              "    </tr>\n",
              "    <tr>\n",
              "      <th>97</th>\n",
              "      <td>Malaysia</td>\n",
              "      <td>11414.206977</td>\n",
              "      <td>74.7</td>\n",
              "    </tr>\n",
              "    <tr>\n",
              "      <th>102</th>\n",
              "      <td>Netherlands</td>\n",
              "      <td>52331.316728</td>\n",
              "      <td>77.0</td>\n",
              "    </tr>\n",
              "    <tr>\n",
              "      <th>103</th>\n",
              "      <td>Norway</td>\n",
              "      <td>75419.634869</td>\n",
              "      <td>73.4</td>\n",
              "    </tr>\n",
              "    <tr>\n",
              "      <th>105</th>\n",
              "      <td>New Zealand</td>\n",
              "      <td>42084.353375</td>\n",
              "      <td>84.1</td>\n",
              "    </tr>\n",
              "    <tr>\n",
              "      <th>114</th>\n",
              "      <td>Qatar</td>\n",
              "      <td>62088.061828</td>\n",
              "      <td>72.3</td>\n",
              "    </tr>\n",
              "    <tr>\n",
              "      <th>116</th>\n",
              "      <td>Rwanda</td>\n",
              "      <td>820.025242</td>\n",
              "      <td>70.9</td>\n",
              "    </tr>\n",
              "    <tr>\n",
              "      <th>120</th>\n",
              "      <td>Singapore</td>\n",
              "      <td>65233.282439</td>\n",
              "      <td>89.4</td>\n",
              "    </tr>\n",
              "    <tr>\n",
              "      <th>127</th>\n",
              "      <td>Sweden</td>\n",
              "      <td>51615.020651</td>\n",
              "      <td>74.9</td>\n",
              "    </tr>\n",
              "    <tr>\n",
              "      <th>143</th>\n",
              "      <td>United States</td>\n",
              "      <td>65297.517508</td>\n",
              "      <td>76.6</td>\n",
              "    </tr>\n",
              "  </tbody>\n",
              "</table>\n",
              "</div>"
            ],
            "text/plain": [
              "             Country Name  ...  INDEX OF ECONOMIC FREEDOM (SCORE 2020)\n",
              "3    United Arab Emirates  ...                                    76.2\n",
              "5                 Armenia  ...                                    70.6\n",
              "6               Australia  ...                                    82.6\n",
              "7                 Austria  ...                                    73.3\n",
              "14               Bulgaria  ...                                    70.2\n",
              "25                 Canada  ...                                    78.2\n",
              "26            Switzerland  ...                                    82.0\n",
              "27                  Chile  ...                                    76.8\n",
              "34                 Cyprus  ...                                    70.1\n",
              "35         Czech Republic  ...                                    74.8\n",
              "36                Germany  ...                                    73.5\n",
              "39                Denmark  ...                                    78.3\n",
              "44                Estonia  ...                                    77.7\n",
              "46                Finland  ...                                    75.7\n",
              "50         United Kingdom  ...                                    79.3\n",
              "51                Georgia  ...                                    77.1\n",
              "65                Ireland  ...                                    80.9\n",
              "66                Iceland  ...                                    77.1\n",
              "67                 Israel  ...                                    74.0\n",
              "71                  Japan  ...                                    73.3\n",
              "81              Lithuania  ...                                    76.7\n",
              "82             Luxembourg  ...                                    75.8\n",
              "83                 Latvia  ...                                    71.9\n",
              "95              Mauritius  ...                                    74.9\n",
              "97               Malaysia  ...                                    74.7\n",
              "102           Netherlands  ...                                    77.0\n",
              "103                Norway  ...                                    73.4\n",
              "105           New Zealand  ...                                    84.1\n",
              "114                 Qatar  ...                                    72.3\n",
              "116                Rwanda  ...                                    70.9\n",
              "120             Singapore  ...                                    89.4\n",
              "127                Sweden  ...                                    74.9\n",
              "143         United States  ...                                    76.6\n",
              "\n",
              "[33 rows x 3 columns]"
            ]
          },
          "metadata": {
            "tags": []
          },
          "execution_count": 54
        }
      ]
    },
    {
      "cell_type": "code",
      "metadata": {
        "colab": {
          "base_uri": "https://localhost:8080/"
        },
        "id": "q7h6gMzgyLJB",
        "outputId": "08ee29f0-bb1c-43d9-ec81-be0cfb7ef5a2"
      },
      "source": [
        "print(bestcountriesEF.shape)"
      ],
      "execution_count": 55,
      "outputs": [
        {
          "output_type": "stream",
          "text": [
            "(33, 3)\n"
          ],
          "name": "stdout"
        }
      ]
    },
    {
      "cell_type": "markdown",
      "metadata": {
        "id": "uGFmQd9aHErb"
      },
      "source": [
        "We see that from the list of countries analyzed, 33 countries have an Index of Economic Freedom greater than 70."
      ]
    },
    {
      "cell_type": "markdown",
      "metadata": {
        "id": "sSbj2RBmF8xp"
      },
      "source": [
        "Now, Let's observe which countries have a GDP Per Capita greater than 12.235. We have taken US $12.235 as a reference figure because it is the amount of income the World Bank considers high."
      ]
    },
    {
      "cell_type": "code",
      "metadata": {
        "colab": {
          "base_uri": "https://localhost:8080/",
          "height": 1000
        },
        "id": "yHb50IesGSkC",
        "outputId": "dcf49abf-fcc5-4ab3-825c-4f3ad285385b"
      },
      "source": [
        "bestcountriesGDP = df[df['GDP PER CAPITA 2019']>12235]\n",
        "bestcountriesGDP"
      ],
      "execution_count": 48,
      "outputs": [
        {
          "output_type": "execute_result",
          "data": {
            "text/html": [
              "<div>\n",
              "<style scoped>\n",
              "    .dataframe tbody tr th:only-of-type {\n",
              "        vertical-align: middle;\n",
              "    }\n",
              "\n",
              "    .dataframe tbody tr th {\n",
              "        vertical-align: top;\n",
              "    }\n",
              "\n",
              "    .dataframe thead th {\n",
              "        text-align: right;\n",
              "    }\n",
              "</style>\n",
              "<table border=\"1\" class=\"dataframe\">\n",
              "  <thead>\n",
              "    <tr style=\"text-align: right;\">\n",
              "      <th></th>\n",
              "      <th>Country Name</th>\n",
              "      <th>GDP PER CAPITA 2019</th>\n",
              "      <th>INDEX OF ECONOMIC FREEDOM (SCORE 2020)</th>\n",
              "    </tr>\n",
              "  </thead>\n",
              "  <tbody>\n",
              "    <tr>\n",
              "      <th>3</th>\n",
              "      <td>United Arab Emirates</td>\n",
              "      <td>43103.323058</td>\n",
              "      <td>76.2</td>\n",
              "    </tr>\n",
              "    <tr>\n",
              "      <th>6</th>\n",
              "      <td>Australia</td>\n",
              "      <td>55060.326101</td>\n",
              "      <td>82.6</td>\n",
              "    </tr>\n",
              "    <tr>\n",
              "      <th>7</th>\n",
              "      <td>Austria</td>\n",
              "      <td>50137.662776</td>\n",
              "      <td>73.3</td>\n",
              "    </tr>\n",
              "    <tr>\n",
              "      <th>10</th>\n",
              "      <td>Belgium</td>\n",
              "      <td>46420.663767</td>\n",
              "      <td>68.9</td>\n",
              "    </tr>\n",
              "    <tr>\n",
              "      <th>15</th>\n",
              "      <td>Bahrain</td>\n",
              "      <td>23503.977127</td>\n",
              "      <td>66.3</td>\n",
              "    </tr>\n",
              "    <tr>\n",
              "      <th>20</th>\n",
              "      <td>Barbados</td>\n",
              "      <td>18148.244926</td>\n",
              "      <td>61.4</td>\n",
              "    </tr>\n",
              "    <tr>\n",
              "      <th>21</th>\n",
              "      <td>Brunei Darussalam</td>\n",
              "      <td>31086.751119</td>\n",
              "      <td>66.6</td>\n",
              "    </tr>\n",
              "    <tr>\n",
              "      <th>25</th>\n",
              "      <td>Canada</td>\n",
              "      <td>46194.725226</td>\n",
              "      <td>78.2</td>\n",
              "    </tr>\n",
              "    <tr>\n",
              "      <th>26</th>\n",
              "      <td>Switzerland</td>\n",
              "      <td>81993.727126</td>\n",
              "      <td>82.0</td>\n",
              "    </tr>\n",
              "    <tr>\n",
              "      <th>27</th>\n",
              "      <td>Chile</td>\n",
              "      <td>14896.453867</td>\n",
              "      <td>76.8</td>\n",
              "    </tr>\n",
              "    <tr>\n",
              "      <th>33</th>\n",
              "      <td>Costa Rica</td>\n",
              "      <td>12243.811427</td>\n",
              "      <td>65.8</td>\n",
              "    </tr>\n",
              "    <tr>\n",
              "      <th>34</th>\n",
              "      <td>Cyprus</td>\n",
              "      <td>27858.370996</td>\n",
              "      <td>70.1</td>\n",
              "    </tr>\n",
              "    <tr>\n",
              "      <th>35</th>\n",
              "      <td>Czech Republic</td>\n",
              "      <td>23494.596200</td>\n",
              "      <td>74.8</td>\n",
              "    </tr>\n",
              "    <tr>\n",
              "      <th>36</th>\n",
              "      <td>Germany</td>\n",
              "      <td>46445.249101</td>\n",
              "      <td>73.5</td>\n",
              "    </tr>\n",
              "    <tr>\n",
              "      <th>39</th>\n",
              "      <td>Denmark</td>\n",
              "      <td>60170.342637</td>\n",
              "      <td>78.3</td>\n",
              "    </tr>\n",
              "    <tr>\n",
              "      <th>43</th>\n",
              "      <td>Spain</td>\n",
              "      <td>29600.378253</td>\n",
              "      <td>66.9</td>\n",
              "    </tr>\n",
              "    <tr>\n",
              "      <th>44</th>\n",
              "      <td>Estonia</td>\n",
              "      <td>23723.306113</td>\n",
              "      <td>77.7</td>\n",
              "    </tr>\n",
              "    <tr>\n",
              "      <th>46</th>\n",
              "      <td>Finland</td>\n",
              "      <td>48782.788476</td>\n",
              "      <td>75.7</td>\n",
              "    </tr>\n",
              "    <tr>\n",
              "      <th>48</th>\n",
              "      <td>France</td>\n",
              "      <td>40493.928572</td>\n",
              "      <td>66.0</td>\n",
              "    </tr>\n",
              "    <tr>\n",
              "      <th>50</th>\n",
              "      <td>United Kingdom</td>\n",
              "      <td>42330.117537</td>\n",
              "      <td>79.3</td>\n",
              "    </tr>\n",
              "    <tr>\n",
              "      <th>56</th>\n",
              "      <td>Greece</td>\n",
              "      <td>19582.535979</td>\n",
              "      <td>59.9</td>\n",
              "    </tr>\n",
              "    <tr>\n",
              "      <th>60</th>\n",
              "      <td>Croatia</td>\n",
              "      <td>14936.100547</td>\n",
              "      <td>62.2</td>\n",
              "    </tr>\n",
              "    <tr>\n",
              "      <th>62</th>\n",
              "      <td>Hungary</td>\n",
              "      <td>16731.821514</td>\n",
              "      <td>66.4</td>\n",
              "    </tr>\n",
              "    <tr>\n",
              "      <th>65</th>\n",
              "      <td>Ireland</td>\n",
              "      <td>78660.956463</td>\n",
              "      <td>80.9</td>\n",
              "    </tr>\n",
              "    <tr>\n",
              "      <th>66</th>\n",
              "      <td>Iceland</td>\n",
              "      <td>66944.833077</td>\n",
              "      <td>77.1</td>\n",
              "    </tr>\n",
              "    <tr>\n",
              "      <th>67</th>\n",
              "      <td>Israel</td>\n",
              "      <td>43592.083582</td>\n",
              "      <td>74.0</td>\n",
              "    </tr>\n",
              "    <tr>\n",
              "      <th>68</th>\n",
              "      <td>Italy</td>\n",
              "      <td>33228.236680</td>\n",
              "      <td>63.8</td>\n",
              "    </tr>\n",
              "    <tr>\n",
              "      <th>71</th>\n",
              "      <td>Japan</td>\n",
              "      <td>40246.880128</td>\n",
              "      <td>73.3</td>\n",
              "    </tr>\n",
              "    <tr>\n",
              "      <th>76</th>\n",
              "      <td>Kuwait</td>\n",
              "      <td>32000.448469</td>\n",
              "      <td>63.2</td>\n",
              "    </tr>\n",
              "    <tr>\n",
              "      <th>81</th>\n",
              "      <td>Lithuania</td>\n",
              "      <td>19601.890834</td>\n",
              "      <td>76.7</td>\n",
              "    </tr>\n",
              "    <tr>\n",
              "      <th>82</th>\n",
              "      <td>Luxembourg</td>\n",
              "      <td>114704.594171</td>\n",
              "      <td>75.8</td>\n",
              "    </tr>\n",
              "    <tr>\n",
              "      <th>83</th>\n",
              "      <td>Latvia</td>\n",
              "      <td>17828.894657</td>\n",
              "      <td>71.9</td>\n",
              "    </tr>\n",
              "    <tr>\n",
              "      <th>90</th>\n",
              "      <td>Malta</td>\n",
              "      <td>29820.603247</td>\n",
              "      <td>69.5</td>\n",
              "    </tr>\n",
              "    <tr>\n",
              "      <th>102</th>\n",
              "      <td>Netherlands</td>\n",
              "      <td>52331.316728</td>\n",
              "      <td>77.0</td>\n",
              "    </tr>\n",
              "    <tr>\n",
              "      <th>103</th>\n",
              "      <td>Norway</td>\n",
              "      <td>75419.634869</td>\n",
              "      <td>73.4</td>\n",
              "    </tr>\n",
              "    <tr>\n",
              "      <th>105</th>\n",
              "      <td>New Zealand</td>\n",
              "      <td>42084.353375</td>\n",
              "      <td>84.1</td>\n",
              "    </tr>\n",
              "    <tr>\n",
              "      <th>106</th>\n",
              "      <td>Oman</td>\n",
              "      <td>15343.062004</td>\n",
              "      <td>63.6</td>\n",
              "    </tr>\n",
              "    <tr>\n",
              "      <th>108</th>\n",
              "      <td>Panama</td>\n",
              "      <td>15731.016035</td>\n",
              "      <td>67.2</td>\n",
              "    </tr>\n",
              "    <tr>\n",
              "      <th>111</th>\n",
              "      <td>Poland</td>\n",
              "      <td>15692.507026</td>\n",
              "      <td>69.1</td>\n",
              "    </tr>\n",
              "    <tr>\n",
              "      <th>112</th>\n",
              "      <td>Portugal</td>\n",
              "      <td>23252.058518</td>\n",
              "      <td>67.0</td>\n",
              "    </tr>\n",
              "    <tr>\n",
              "      <th>114</th>\n",
              "      <td>Qatar</td>\n",
              "      <td>62088.061828</td>\n",
              "      <td>72.3</td>\n",
              "    </tr>\n",
              "    <tr>\n",
              "      <th>115</th>\n",
              "      <td>Romania</td>\n",
              "      <td>12919.529644</td>\n",
              "      <td>69.7</td>\n",
              "    </tr>\n",
              "    <tr>\n",
              "      <th>117</th>\n",
              "      <td>Saudi Arabia</td>\n",
              "      <td>23139.798656</td>\n",
              "      <td>62.4</td>\n",
              "    </tr>\n",
              "    <tr>\n",
              "      <th>120</th>\n",
              "      <td>Singapore</td>\n",
              "      <td>65233.282439</td>\n",
              "      <td>89.4</td>\n",
              "    </tr>\n",
              "    <tr>\n",
              "      <th>126</th>\n",
              "      <td>Slovenia</td>\n",
              "      <td>25946.182185</td>\n",
              "      <td>67.8</td>\n",
              "    </tr>\n",
              "    <tr>\n",
              "      <th>127</th>\n",
              "      <td>Sweden</td>\n",
              "      <td>51615.020651</td>\n",
              "      <td>74.9</td>\n",
              "    </tr>\n",
              "    <tr>\n",
              "      <th>129</th>\n",
              "      <td>Seychelles</td>\n",
              "      <td>17448.270293</td>\n",
              "      <td>64.3</td>\n",
              "    </tr>\n",
              "    <tr>\n",
              "      <th>136</th>\n",
              "      <td>Trinidad and Tobago</td>\n",
              "      <td>17397.981760</td>\n",
              "      <td>58.3</td>\n",
              "    </tr>\n",
              "    <tr>\n",
              "      <th>142</th>\n",
              "      <td>Uruguay</td>\n",
              "      <td>16190.126957</td>\n",
              "      <td>69.1</td>\n",
              "    </tr>\n",
              "    <tr>\n",
              "      <th>143</th>\n",
              "      <td>United States</td>\n",
              "      <td>65297.517508</td>\n",
              "      <td>76.6</td>\n",
              "    </tr>\n",
              "  </tbody>\n",
              "</table>\n",
              "</div>"
            ],
            "text/plain": [
              "             Country Name  ...  INDEX OF ECONOMIC FREEDOM (SCORE 2020)\n",
              "3    United Arab Emirates  ...                                    76.2\n",
              "6               Australia  ...                                    82.6\n",
              "7                 Austria  ...                                    73.3\n",
              "10                Belgium  ...                                    68.9\n",
              "15                Bahrain  ...                                    66.3\n",
              "20               Barbados  ...                                    61.4\n",
              "21      Brunei Darussalam  ...                                    66.6\n",
              "25                 Canada  ...                                    78.2\n",
              "26            Switzerland  ...                                    82.0\n",
              "27                  Chile  ...                                    76.8\n",
              "33             Costa Rica  ...                                    65.8\n",
              "34                 Cyprus  ...                                    70.1\n",
              "35         Czech Republic  ...                                    74.8\n",
              "36                Germany  ...                                    73.5\n",
              "39                Denmark  ...                                    78.3\n",
              "43                  Spain  ...                                    66.9\n",
              "44                Estonia  ...                                    77.7\n",
              "46                Finland  ...                                    75.7\n",
              "48                 France  ...                                    66.0\n",
              "50         United Kingdom  ...                                    79.3\n",
              "56                 Greece  ...                                    59.9\n",
              "60                Croatia  ...                                    62.2\n",
              "62                Hungary  ...                                    66.4\n",
              "65                Ireland  ...                                    80.9\n",
              "66                Iceland  ...                                    77.1\n",
              "67                 Israel  ...                                    74.0\n",
              "68                  Italy  ...                                    63.8\n",
              "71                  Japan  ...                                    73.3\n",
              "76                 Kuwait  ...                                    63.2\n",
              "81              Lithuania  ...                                    76.7\n",
              "82             Luxembourg  ...                                    75.8\n",
              "83                 Latvia  ...                                    71.9\n",
              "90                  Malta  ...                                    69.5\n",
              "102           Netherlands  ...                                    77.0\n",
              "103                Norway  ...                                    73.4\n",
              "105           New Zealand  ...                                    84.1\n",
              "106                  Oman  ...                                    63.6\n",
              "108                Panama  ...                                    67.2\n",
              "111                Poland  ...                                    69.1\n",
              "112              Portugal  ...                                    67.0\n",
              "114                 Qatar  ...                                    72.3\n",
              "115               Romania  ...                                    69.7\n",
              "117          Saudi Arabia  ...                                    62.4\n",
              "120             Singapore  ...                                    89.4\n",
              "126              Slovenia  ...                                    67.8\n",
              "127                Sweden  ...                                    74.9\n",
              "129            Seychelles  ...                                    64.3\n",
              "136   Trinidad and Tobago  ...                                    58.3\n",
              "142               Uruguay  ...                                    69.1\n",
              "143         United States  ...                                    76.6\n",
              "\n",
              "[50 rows x 3 columns]"
            ]
          },
          "metadata": {
            "tags": []
          },
          "execution_count": 48
        }
      ]
    },
    {
      "cell_type": "code",
      "metadata": {
        "colab": {
          "base_uri": "https://localhost:8080/"
        },
        "id": "mC0ZPe_ayUbW",
        "outputId": "795b63fe-8e54-4398-9cc4-b1cc377d0134"
      },
      "source": [
        "print(bestcountriesGDP.shape)"
      ],
      "execution_count": 56,
      "outputs": [
        {
          "output_type": "stream",
          "text": [
            "(50, 3)\n"
          ],
          "name": "stdout"
        }
      ]
    },
    {
      "cell_type": "markdown",
      "metadata": {
        "id": "MkYnGEg3HaRB"
      },
      "source": [
        "We see that from the list of countries analyzed, 50 countries have an Index of Economic Freedom greater than 12.235."
      ]
    },
    {
      "cell_type": "code",
      "metadata": {
        "colab": {
          "base_uri": "https://localhost:8080/"
        },
        "id": "lhXDEzBEyn0q",
        "outputId": "8bda1a74-34a8-4f87-a859-2f3ba3813871"
      },
      "source": [
        "33/50"
      ],
      "execution_count": 57,
      "outputs": [
        {
          "output_type": "execute_result",
          "data": {
            "text/plain": [
              "0.66"
            ]
          },
          "metadata": {
            "tags": []
          },
          "execution_count": 57
        }
      ]
    },
    {
      "cell_type": "markdown",
      "metadata": {
        "id": "9ScVuRwyHmiH"
      },
      "source": [
        "If we analyze the countries with a high GDP Per Capita, we ca see that 66% of them have an Index of Economic Freedom greater than 70."
      ]
    },
    {
      "cell_type": "markdown",
      "metadata": {
        "id": "g8fhzzQqII0k"
      },
      "source": [
        "\n",
        "Now let's use the eq () function to obtain an exact list of countries with a high GDP Per Capita and an Index greater than 70."
      ]
    },
    {
      "cell_type": "code",
      "metadata": {
        "colab": {
          "base_uri": "https://localhost:8080/",
          "height": 893
        },
        "id": "ePglQczoGPsz",
        "outputId": "ccf58dd0-2027-49be-bbdc-6b3a22636c75"
      },
      "source": [
        "bestcountriesEF[bestcountriesGDP.eq(bestcountriesEF).all(axis=1)]"
      ],
      "execution_count": 58,
      "outputs": [
        {
          "output_type": "stream",
          "text": [
            "/usr/local/lib/python3.7/dist-packages/ipykernel_launcher.py:1: UserWarning: Boolean Series key will be reindexed to match DataFrame index.\n",
            "  \"\"\"Entry point for launching an IPython kernel.\n"
          ],
          "name": "stderr"
        },
        {
          "output_type": "execute_result",
          "data": {
            "text/html": [
              "<div>\n",
              "<style scoped>\n",
              "    .dataframe tbody tr th:only-of-type {\n",
              "        vertical-align: middle;\n",
              "    }\n",
              "\n",
              "    .dataframe tbody tr th {\n",
              "        vertical-align: top;\n",
              "    }\n",
              "\n",
              "    .dataframe thead th {\n",
              "        text-align: right;\n",
              "    }\n",
              "</style>\n",
              "<table border=\"1\" class=\"dataframe\">\n",
              "  <thead>\n",
              "    <tr style=\"text-align: right;\">\n",
              "      <th></th>\n",
              "      <th>Country Name</th>\n",
              "      <th>GDP PER CAPITA 2019</th>\n",
              "      <th>INDEX OF ECONOMIC FREEDOM (SCORE 2020)</th>\n",
              "    </tr>\n",
              "  </thead>\n",
              "  <tbody>\n",
              "    <tr>\n",
              "      <th>3</th>\n",
              "      <td>United Arab Emirates</td>\n",
              "      <td>43103.323058</td>\n",
              "      <td>76.2</td>\n",
              "    </tr>\n",
              "    <tr>\n",
              "      <th>6</th>\n",
              "      <td>Australia</td>\n",
              "      <td>55060.326101</td>\n",
              "      <td>82.6</td>\n",
              "    </tr>\n",
              "    <tr>\n",
              "      <th>7</th>\n",
              "      <td>Austria</td>\n",
              "      <td>50137.662776</td>\n",
              "      <td>73.3</td>\n",
              "    </tr>\n",
              "    <tr>\n",
              "      <th>25</th>\n",
              "      <td>Canada</td>\n",
              "      <td>46194.725226</td>\n",
              "      <td>78.2</td>\n",
              "    </tr>\n",
              "    <tr>\n",
              "      <th>26</th>\n",
              "      <td>Switzerland</td>\n",
              "      <td>81993.727126</td>\n",
              "      <td>82.0</td>\n",
              "    </tr>\n",
              "    <tr>\n",
              "      <th>27</th>\n",
              "      <td>Chile</td>\n",
              "      <td>14896.453867</td>\n",
              "      <td>76.8</td>\n",
              "    </tr>\n",
              "    <tr>\n",
              "      <th>34</th>\n",
              "      <td>Cyprus</td>\n",
              "      <td>27858.370996</td>\n",
              "      <td>70.1</td>\n",
              "    </tr>\n",
              "    <tr>\n",
              "      <th>35</th>\n",
              "      <td>Czech Republic</td>\n",
              "      <td>23494.596200</td>\n",
              "      <td>74.8</td>\n",
              "    </tr>\n",
              "    <tr>\n",
              "      <th>36</th>\n",
              "      <td>Germany</td>\n",
              "      <td>46445.249101</td>\n",
              "      <td>73.5</td>\n",
              "    </tr>\n",
              "    <tr>\n",
              "      <th>39</th>\n",
              "      <td>Denmark</td>\n",
              "      <td>60170.342637</td>\n",
              "      <td>78.3</td>\n",
              "    </tr>\n",
              "    <tr>\n",
              "      <th>44</th>\n",
              "      <td>Estonia</td>\n",
              "      <td>23723.306113</td>\n",
              "      <td>77.7</td>\n",
              "    </tr>\n",
              "    <tr>\n",
              "      <th>46</th>\n",
              "      <td>Finland</td>\n",
              "      <td>48782.788476</td>\n",
              "      <td>75.7</td>\n",
              "    </tr>\n",
              "    <tr>\n",
              "      <th>50</th>\n",
              "      <td>United Kingdom</td>\n",
              "      <td>42330.117537</td>\n",
              "      <td>79.3</td>\n",
              "    </tr>\n",
              "    <tr>\n",
              "      <th>65</th>\n",
              "      <td>Ireland</td>\n",
              "      <td>78660.956463</td>\n",
              "      <td>80.9</td>\n",
              "    </tr>\n",
              "    <tr>\n",
              "      <th>66</th>\n",
              "      <td>Iceland</td>\n",
              "      <td>66944.833077</td>\n",
              "      <td>77.1</td>\n",
              "    </tr>\n",
              "    <tr>\n",
              "      <th>67</th>\n",
              "      <td>Israel</td>\n",
              "      <td>43592.083582</td>\n",
              "      <td>74.0</td>\n",
              "    </tr>\n",
              "    <tr>\n",
              "      <th>71</th>\n",
              "      <td>Japan</td>\n",
              "      <td>40246.880128</td>\n",
              "      <td>73.3</td>\n",
              "    </tr>\n",
              "    <tr>\n",
              "      <th>81</th>\n",
              "      <td>Lithuania</td>\n",
              "      <td>19601.890834</td>\n",
              "      <td>76.7</td>\n",
              "    </tr>\n",
              "    <tr>\n",
              "      <th>82</th>\n",
              "      <td>Luxembourg</td>\n",
              "      <td>114704.594171</td>\n",
              "      <td>75.8</td>\n",
              "    </tr>\n",
              "    <tr>\n",
              "      <th>83</th>\n",
              "      <td>Latvia</td>\n",
              "      <td>17828.894657</td>\n",
              "      <td>71.9</td>\n",
              "    </tr>\n",
              "    <tr>\n",
              "      <th>102</th>\n",
              "      <td>Netherlands</td>\n",
              "      <td>52331.316728</td>\n",
              "      <td>77.0</td>\n",
              "    </tr>\n",
              "    <tr>\n",
              "      <th>103</th>\n",
              "      <td>Norway</td>\n",
              "      <td>75419.634869</td>\n",
              "      <td>73.4</td>\n",
              "    </tr>\n",
              "    <tr>\n",
              "      <th>105</th>\n",
              "      <td>New Zealand</td>\n",
              "      <td>42084.353375</td>\n",
              "      <td>84.1</td>\n",
              "    </tr>\n",
              "    <tr>\n",
              "      <th>114</th>\n",
              "      <td>Qatar</td>\n",
              "      <td>62088.061828</td>\n",
              "      <td>72.3</td>\n",
              "    </tr>\n",
              "    <tr>\n",
              "      <th>120</th>\n",
              "      <td>Singapore</td>\n",
              "      <td>65233.282439</td>\n",
              "      <td>89.4</td>\n",
              "    </tr>\n",
              "    <tr>\n",
              "      <th>127</th>\n",
              "      <td>Sweden</td>\n",
              "      <td>51615.020651</td>\n",
              "      <td>74.9</td>\n",
              "    </tr>\n",
              "    <tr>\n",
              "      <th>143</th>\n",
              "      <td>United States</td>\n",
              "      <td>65297.517508</td>\n",
              "      <td>76.6</td>\n",
              "    </tr>\n",
              "  </tbody>\n",
              "</table>\n",
              "</div>"
            ],
            "text/plain": [
              "             Country Name  ...  INDEX OF ECONOMIC FREEDOM (SCORE 2020)\n",
              "3    United Arab Emirates  ...                                    76.2\n",
              "6               Australia  ...                                    82.6\n",
              "7                 Austria  ...                                    73.3\n",
              "25                 Canada  ...                                    78.2\n",
              "26            Switzerland  ...                                    82.0\n",
              "27                  Chile  ...                                    76.8\n",
              "34                 Cyprus  ...                                    70.1\n",
              "35         Czech Republic  ...                                    74.8\n",
              "36                Germany  ...                                    73.5\n",
              "39                Denmark  ...                                    78.3\n",
              "44                Estonia  ...                                    77.7\n",
              "46                Finland  ...                                    75.7\n",
              "50         United Kingdom  ...                                    79.3\n",
              "65                Ireland  ...                                    80.9\n",
              "66                Iceland  ...                                    77.1\n",
              "67                 Israel  ...                                    74.0\n",
              "71                  Japan  ...                                    73.3\n",
              "81              Lithuania  ...                                    76.7\n",
              "82             Luxembourg  ...                                    75.8\n",
              "83                 Latvia  ...                                    71.9\n",
              "102           Netherlands  ...                                    77.0\n",
              "103                Norway  ...                                    73.4\n",
              "105           New Zealand  ...                                    84.1\n",
              "114                 Qatar  ...                                    72.3\n",
              "120             Singapore  ...                                    89.4\n",
              "127                Sweden  ...                                    74.9\n",
              "143         United States  ...                                    76.6\n",
              "\n",
              "[27 rows x 3 columns]"
            ]
          },
          "metadata": {
            "tags": []
          },
          "execution_count": 58
        }
      ]
    },
    {
      "cell_type": "markdown",
      "metadata": {
        "id": "X6FZbCYuJPlj"
      },
      "source": [
        "After cleaning and analyzing all the data regarding GDP Per Capita and the Index of Economic Freedom, let's check if there is a correlation between them."
      ]
    },
    {
      "cell_type": "code",
      "metadata": {
        "colab": {
          "base_uri": "https://localhost:8080/",
          "height": 296
        },
        "id": "T5Sc3o1iR6TV",
        "outputId": "0ea42b43-4f5b-443b-cdc0-6b0756a3335b"
      },
      "source": [
        "plt.plot(df['GDP PER CAPITA 2019'], df['INDEX OF ECONOMIC FREEDOM (SCORE 2020)'], 'bo')\n",
        "plt.xlabel('GDP PER CAPITA')\n",
        "plt.ylabel('INDEX OF ECONOMIC FREEDOM')"
      ],
      "execution_count": 63,
      "outputs": [
        {
          "output_type": "execute_result",
          "data": {
            "text/plain": [
              "Text(0, 0.5, 'INDEX OF ECONOMIC FREEDOM')"
            ]
          },
          "metadata": {
            "tags": []
          },
          "execution_count": 63
        },
        {
          "output_type": "display_data",
          "data": {
            "image/png": "[encoded data removed]",
            "text/plain": [
              "<Figure size 432x288 with 1 Axes>"
            ]
          },
          "metadata": {
            "tags": [],
            "needs_background": "light"
          }
        }
      ]
    },
    {
      "cell_type": "markdown",
      "metadata": {
        "id": "zVo8PR2uJnUs"
      },
      "source": [
        "In the previous scatter plot we can see that does exist a positive correlation, but now let's look for a more precise result using a correlation matrix."
      ]
    },
    {
      "cell_type": "code",
      "metadata": {
        "colab": {
          "base_uri": "https://localhost:8080/",
          "height": 107
        },
        "id": "1fDo2C01TGdf",
        "outputId": "45b18379-8b33-4d87-a0ee-9307bedcd57c"
      },
      "source": [
        "df.corr()"
      ],
      "execution_count": 64,
      "outputs": [
        {
          "output_type": "execute_result",
          "data": {
            "text/html": [
              "<div>\n",
              "<style scoped>\n",
              "    .dataframe tbody tr th:only-of-type {\n",
              "        vertical-align: middle;\n",
              "    }\n",
              "\n",
              "    .dataframe tbody tr th {\n",
              "        vertical-align: top;\n",
              "    }\n",
              "\n",
              "    .dataframe thead th {\n",
              "        text-align: right;\n",
              "    }\n",
              "</style>\n",
              "<table border=\"1\" class=\"dataframe\">\n",
              "  <thead>\n",
              "    <tr style=\"text-align: right;\">\n",
              "      <th></th>\n",
              "      <th>GDP PER CAPITA 2019</th>\n",
              "      <th>INDEX OF ECONOMIC FREEDOM (SCORE 2020)</th>\n",
              "    </tr>\n",
              "  </thead>\n",
              "  <tbody>\n",
              "    <tr>\n",
              "      <th>GDP PER CAPITA 2019</th>\n",
              "      <td>1.000000</td>\n",
              "      <td>0.714841</td>\n",
              "    </tr>\n",
              "    <tr>\n",
              "      <th>INDEX OF ECONOMIC FREEDOM (SCORE 2020)</th>\n",
              "      <td>0.714841</td>\n",
              "      <td>1.000000</td>\n",
              "    </tr>\n",
              "  </tbody>\n",
              "</table>\n",
              "</div>"
            ],
            "text/plain": [
              "                                        GDP PER CAPITA 2019  INDEX OF ECONOMIC FREEDOM (SCORE 2020)\n",
              "GDP PER CAPITA 2019                                1.000000                                0.714841\n",
              "INDEX OF ECONOMIC FREEDOM (SCORE 2020)             0.714841                                1.000000"
            ]
          },
          "metadata": {
            "tags": []
          },
          "execution_count": 64
        }
      ]
    },
    {
      "cell_type": "markdown",
      "metadata": {
        "id": "tWCiqtuzEO6A"
      },
      "source": [
        "When looking at the results produced by the correlation matrix, we can observe a correlation coefficient of 0.71. We conclude that there is a strong positive correlation between GDP Per Capita and the Index of Economic Freedom. And although the concept of correlation does not imply cause, based on our analysis we can say that a country will tend to increase its GDP Per Capita as it becomes more free in economic terms."
      ]
    }
  ]
}